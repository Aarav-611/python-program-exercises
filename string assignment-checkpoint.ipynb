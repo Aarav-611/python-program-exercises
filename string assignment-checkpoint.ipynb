{
 "cells": [
  {
   "cell_type": "code",
   "execution_count": 1,
   "id": "ab38de13-b6fe-42ad-84a2-ba8c6f79f21a",
   "metadata": {},
   "outputs": [
    {
     "name": "stdout",
     "output_type": "stream",
     "text": [
      "7\n"
     ]
    }
   ],
   "source": [
    "#1.write a program to calculate the length of a string\n",
    "string=\"ashwini\"\n",
    "print(len(string))"
   ]
  },
  {
   "cell_type": "code",
   "execution_count": 20,
   "id": "8b52117a-a533-4a08-9f71-045a18097d18",
   "metadata": {},
   "outputs": [
    {
     "name": "stdout",
     "output_type": "stream",
     "text": [
      "count of all character is {'g': 2, 'o': 3, 'l': 1, 'e': 1, '.': 1, 'c': 1, 'm': 1}\n"
     ]
    }
   ],
   "source": [
    "#2.\n",
    "s='google.com'\n",
    "dict={}\n",
    "for i in s:\n",
    "    if i in dict:\n",
    "        dict[i]+=1\n",
    "    else:\n",
    "        dict[i]=1\n",
    "print(\"count of all character is\",dict)"
   ]
  },
  {
   "cell_type": "code",
   "execution_count": 41,
   "id": "4a27e941-67a1-4586-824c-4a828c3e7077",
   "metadata": {},
   "outputs": [
    {
     "name": "stdin",
     "output_type": "stream",
     "text": [
      "enter ur  string mi\n"
     ]
    },
    {
     "name": "stdout",
     "output_type": "stream",
     "text": [
      "mimi\n"
     ]
    }
   ],
   "source": [
    "#3.write a python program to get a string made of the first 2 and the last 2 chars from a given a string .if the  string length is less than 2 returned insted of the 1st string\n",
    "s1=input('enter ur  string')\n",
    "if len(s1)>2:\n",
    "  print(s1[0:2]+s1[-2:])\n",
    "elif len(s1)==2:\n",
    "    print(s1*2)\n",
    "else:\n",
    "  print('empty string')\n"
   ]
  },
  {
   "cell_type": "code",
   "execution_count": null,
   "id": "ab1a3ae0-9572-48b1-8d66-41e55d8f0b0d",
   "metadata": {},
   "outputs": [],
   "source": [
    "#4.string where all ocurances of its first character \n",
    "s1=input('enter the string:')\n",
    "char="
   ]
  },
  {
   "cell_type": "code",
   "execution_count": 59,
   "id": "1cc24d8b-f86e-4902-8a45-9bf4a799c895",
   "metadata": {},
   "outputs": [
    {
     "name": "stdin",
     "output_type": "stream",
     "text": [
      "enter ur ist string abc\n",
      "enter ur 2nd string xyz\n"
     ]
    },
    {
     "name": "stdout",
     "output_type": "stream",
     "text": [
      "xyc abz\n"
     ]
    }
   ],
   "source": [
    "#5 seperated  by a space swap 1st 2 char of each string\n",
    "s1=input(\"enter ur ist string\")\n",
    "s2=input(\"enter ur 2nd string\")\n",
    "s3= s2[0:2]+s1[2:]\n",
    "s4=s1[0:2]+s2[2:]\n",
    "s5=s3+\" \"+s4\n",
    "print(s5)\n"
   ]
  },
  {
   "cell_type": "code",
   "execution_count": 9,
   "id": "0fa4c6bc-a7e6-42c7-9395-b94fa9fd29cf",
   "metadata": {},
   "outputs": [
    {
     "name": "stdout",
     "output_type": "stream",
     "text": [
      "The lyrics is good!.\n"
     ]
    }
   ],
   "source": [
    "#Wap to finfd first appearance of the substring 'not' and 'poor' from a given \n",
    "s1='The lyrics is not that poor!.'\n",
    "s2=s1.find('not')\n",
    "s3=s1.find('poor')\n",
    "if s3>s2 and s2>0 and s3>0:\n",
    "    s1=s1.replace(s1[s2:s3+4],'good')\n",
    "    print(s1)\n",
    "else:\n",
    "    print()"
   ]
  },
  {
   "cell_type": "code",
   "execution_count": 11,
   "id": "514144f4-783e-438b-9462-2935ec297a41",
   "metadata": {},
   "outputs": [
    {
     "name": "stdout",
     "output_type": "stream",
     "text": [
      "150\n"
     ]
    }
   ],
   "source": [
    "8.write python function that takes a list of words and returns longest one:\n",
    "a=['ashwini','jyoti','geeta','santosh']\n",
    "[for word in a \n"
   ]
  },
  {
   "cell_type": "code",
   "execution_count": 1,
   "id": "e479e425-8281-46a3-a1de-7a7c6edabf21",
   "metadata": {},
   "outputs": [
    {
     "name": "stdin",
     "output_type": "stream",
     "text": [
      "Enter the string: 'ashwini santosh buchadw'\n"
     ]
    },
    {
     "name": "stdout",
     "output_type": "stream",
     "text": [
      "Longest word of given string is 'ashwini\n"
     ]
    }
   ],
   "source": [
    "B = input('Enter the string:')\n",
    "B_split = B.split(' ')\n",
    "max1 = len(B_split[0])\n",
    "word = B_split[0]\n",
    "for i in B_split:\n",
    "    if (len(i) > max1):\n",
    "        max1 = len(i)\n",
    "        word = i\n",
    "print('Longest word of given string is '+ word)"
   ]
  },
  {
   "cell_type": "code",
   "execution_count": 7,
   "id": "350275d7-d34d-4486-ba75-48e0ee174023",
   "metadata": {},
   "outputs": [
    {
     "name": "stdin",
     "output_type": "stream",
     "text": [
      "Enter the string: santosh\n",
      "Index to be removed: 2\n"
     ]
    },
    {
     "data": {
      "text/plain": [
       "'satosh'"
      ]
     },
     "execution_count": 7,
     "metadata": {},
     "output_type": "execute_result"
    }
   ],
   "source": [
    "#9.write a program to remove the nth index  character from a nonempty string:\n",
    "g = input('Enter the string:')\n",
    "n = int(input('Index to be removed:'))\n",
    "b1 = g[n:n+1]\n",
    "s=g.replace(b1,'')\n",
    "s"
   ]
  },
  {
   "cell_type": "code",
   "execution_count": 15,
   "id": "b2a2961f-8f95-4851-83a3-8cc62f7c1712",
   "metadata": {},
   "outputs": [
    {
     "name": "stdin",
     "output_type": "stream",
     "text": [
      "enter the string: ashwini\n"
     ]
    },
    {
     "name": "stdout",
     "output_type": "stream",
     "text": [
      "ishwina\n"
     ]
    }
   ],
   "source": [
    "#10.write a python program to change a given string to new string where \n",
    "s=input('enter the string:')\n",
    "s1=s[0]\n",
    "s2=s[-1]\n",
    "s3=s2+s[1:-1]+s1\n",
    "print(s3)\n"
   ]
  },
  {
   "cell_type": "code",
   "execution_count": 27,
   "id": "6ece9d9e-79d3-41ce-b1f6-121c5496de0e",
   "metadata": {},
   "outputs": [
    {
     "name": "stdin",
     "output_type": "stream",
     "text": [
      "enter ur string ashwini\n"
     ]
    },
    {
     "name": "stdout",
     "output_type": "stream",
     "text": [
      "swn\n"
     ]
    }
   ],
   "source": [
    "#11.write a python program to remove the char which have odd index value of a given string\n",
    "s=input('enter ur string')\n",
    "new_str=''\n",
    "for i in range(len(s)):\n",
    "    if i%2!=0:\n",
    "      new_str=new_str+s[i]\n",
    "print(new_str)"
   ]
  },
  {
   "cell_type": "code",
   "execution_count": 31,
   "id": "c959c5c5-eb6b-4db0-9f40-3fa7e5181a7d",
   "metadata": {},
   "outputs": [
    {
     "name": "stdin",
     "output_type": "stream",
     "text": [
      "enter ur string hello hi hello how how are you you\n"
     ]
    },
    {
     "name": "stdout",
     "output_type": "stream",
     "text": [
      "{'hello': 2, 'hi': 1, 'how': 2, 'are': 1, 'you': 2}\n"
     ]
    }
   ],
   "source": [
    "#12.wap to count the occurances of each word in given sentences\n",
    "s=input('enter ur string')\n",
    "count=dict()\n",
    "s1=s.split()\n",
    "for i in s1:\n",
    "    if i in count:\n",
    "        count[i]+=1\n",
    "    else:\n",
    "        count[i]=1\n",
    "print(count)\n",
    "\n"
   ]
  },
  {
   "cell_type": "code",
   "execution_count": null,
   "id": "bae2c2fc-bf8c-4d57-bcce-5d051660f642",
   "metadata": {},
   "outputs": [],
   "source": [
    "#13."
   ]
  }
 ],
 "metadata": {
  "kernelspec": {
   "display_name": "Python 3 (ipykernel)",
   "language": "python",
   "name": "python3"
  },
  "language_info": {
   "codemirror_mode": {
    "name": "ipython",
    "version": 3
   },
   "file_extension": ".py",
   "mimetype": "text/x-python",
   "name": "python",
   "nbconvert_exporter": "python",
   "pygments_lexer": "ipython3",
   "version": "3.12.4"
  }
 },
 "nbformat": 4,
 "nbformat_minor": 5
}
