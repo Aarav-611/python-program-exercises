{
 "cells": [
  {
   "cell_type": "code",
   "execution_count": 7,
   "id": "5876e4bd-39ce-43b7-aec1-0c8e242564d9",
   "metadata": {},
   "outputs": [
    {
     "name": "stdout",
     "output_type": "stream",
     "text": [
      "1.26.4\n",
      "Build Dependencies:\n",
      "  blas:\n",
      "    detection method: pkgconfig\n",
      "    found: true\n",
      "    include directory: C:/Users/ashwi/anaconda3/Library/include\n",
      "    lib directory: C:/Users/ashwi/anaconda3/Library/lib\n",
      "    name: mkl-sdl\n",
      "    openblas configuration: unknown\n",
      "    pc file directory: C:\\b\\abs_c1ywpu18ar\\croot\\numpy_and_numpy_base_1708638681471\\_h_env\\Library\\lib\\pkgconfig\n",
      "    version: '2023.1'\n",
      "  lapack:\n",
      "    detection method: internal\n",
      "    found: true\n",
      "    include directory: unknown\n",
      "    lib directory: unknown\n",
      "    name: dep1583119523984\n",
      "    openblas configuration: unknown\n",
      "    pc file directory: unknown\n",
      "    version: 1.26.4\n",
      "Compilers:\n",
      "  c:\n",
      "    commands: cl.exe\n",
      "    linker: link\n",
      "    name: msvc\n",
      "    version: 19.29.30154\n",
      "  c++:\n",
      "    commands: cl.exe\n",
      "    linker: link\n",
      "    name: msvc\n",
      "    version: 19.29.30154\n",
      "  cython:\n",
      "    commands: cython\n",
      "    linker: cython\n",
      "    name: cython\n",
      "    version: 3.0.8\n",
      "Machine Information:\n",
      "  build:\n",
      "    cpu: x86_64\n",
      "    endian: little\n",
      "    family: x86_64\n",
      "    system: windows\n",
      "  host:\n",
      "    cpu: x86_64\n",
      "    endian: little\n",
      "    family: x86_64\n",
      "    system: windows\n",
      "Python Information:\n",
      "  path: C:\\b\\abs_c1ywpu18ar\\croot\\numpy_and_numpy_base_1708638681471\\_h_env\\python.exe\n",
      "  version: '3.12'\n",
      "SIMD Extensions:\n",
      "  baseline:\n",
      "  - SSE\n",
      "  - SSE2\n",
      "  - SSE3\n",
      "  found:\n",
      "  - SSSE3\n",
      "  - SSE41\n",
      "  - POPCNT\n",
      "  - SSE42\n",
      "  - AVX\n",
      "  - F16C\n",
      "  - FMA3\n",
      "  - AVX2\n",
      "  - AVX512F\n",
      "  - AVX512CD\n",
      "  - AVX512_SKX\n",
      "  - AVX512_CLX\n",
      "  - AVX512_CNL\n",
      "  - AVX512_ICL\n",
      "\n",
      "None\n"
     ]
    }
   ],
   "source": [
    "#1. Write a Numpy program to get the Numpy version and show the Numpy build configuration.\n",
    "import numpy as np\n",
    "print(np.__version__)\n",
    "print(np.show_config())"
   ]
  },
  {
   "cell_type": "code",
   "execution_count": 13,
   "id": "0e391c76-8a4f-423d-8b72-8030a08e296e",
   "metadata": {},
   "outputs": [
    {
     "data": {
      "text/plain": [
       "array([ 0,  1,  2,  3,  4,  5,  6,  7,  8,  9, 10, 11])"
      ]
     },
     "execution_count": 13,
     "metadata": {},
     "output_type": "execute_result"
    }
   ],
   "source": [
    "#2.How to create a 1D array?\n",
    "import numpy as np\n",
    "np.arange(12)"
   ]
  },
  {
   "cell_type": "code",
   "execution_count": 17,
   "id": "69af0676-705b-4216-ac6f-0c1e142a7bca",
   "metadata": {},
   "outputs": [
    {
     "data": {
      "text/plain": [
       "array([[ True,  True,  True],\n",
       "       [ True,  True,  True],\n",
       "       [ True,  True,  True]])"
      ]
     },
     "execution_count": 17,
     "metadata": {},
     "output_type": "execute_result"
    }
   ],
   "source": [
    "#3.How to create a boolean array?\n",
    "import numpy as np\n",
    "np.ones((3,3),dtype=bool)"
   ]
  },
  {
   "cell_type": "code",
   "execution_count": 19,
   "id": "52d72f7f-0204-4885-9f96-6421f0fda474",
   "metadata": {},
   "outputs": [
    {
     "data": {
      "text/plain": [
       "array([ 1,  3,  5,  7,  9, 11, 13, 15])"
      ]
     },
     "execution_count": 19,
     "metadata": {},
     "output_type": "execute_result"
    }
   ],
   "source": [
    "# 4.Extract all odd numbers from array\n",
    "a=np.arange(16)\n",
    "a[a%2!=0]\n"
   ]
  },
  {
   "cell_type": "code",
   "execution_count": 21,
   "id": "e9da8482-8fa9-4d7f-a6cc-3b6c7dbe478e",
   "metadata": {},
   "outputs": [
    {
     "data": {
      "text/plain": [
       "array([ 0, -1,  2, -1,  4, -1,  6, -1,  8, -1])"
      ]
     },
     "execution_count": 21,
     "metadata": {},
     "output_type": "execute_result"
    }
   ],
   "source": [
    "# 5.Replace all odd numbers in array with -1\n",
    "arr=np.array([0,1,2,3,4,5,6,7,8,9])\n",
    "arr[arr%2!=0]=-1\n",
    "arr"
   ]
  },
  {
   "cell_type": "code",
   "execution_count": 23,
   "id": "59d8c5ce-41dd-4e00-b7aa-f500ed0c6ab4",
   "metadata": {},
   "outputs": [
    {
     "name": "stdout",
     "output_type": "stream",
     "text": [
      "orignal array [0 1 2 3 4 5 6 7 8 9]\n",
      "changing array [ 0 -1  2 -1  4 -1  6 -1  8 -1]\n"
     ]
    }
   ],
   "source": [
    "#6. Replace all odd numbers in arr with -1 without changing orignal array\n",
    "a=np.arange(10)\n",
    "b=a.copy()\n",
    "b[b%2!=0]=-1\n",
    "print(\"orignal array\",a)\n",
    "print(\"changing array\",b)"
   ]
  },
  {
   "cell_type": "code",
   "execution_count": 25,
   "id": "32ddc94e-d8c4-4d04-8b40-6124e37986a3",
   "metadata": {},
   "outputs": [
    {
     "data": {
      "text/plain": [
       "array([[0, 1, 2, 3, 4],\n",
       "       [5, 6, 7, 8, 9]])"
      ]
     },
     "execution_count": 25,
     "metadata": {},
     "output_type": "execute_result"
    }
   ],
   "source": [
    "#7.Convert a 1D array to a 2D array with 2 row\n",
    "a=np.arange(10)\n",
    "a.reshape(2,5)\n",
    "\n"
   ]
  },
  {
   "cell_type": "code",
   "execution_count": 31,
   "id": "b048c515-0266-40a5-9e4b-c7724d4f407f",
   "metadata": {},
   "outputs": [
    {
     "data": {
      "text/plain": [
       "array([[0, 1, 2, 3, 4],\n",
       "       [5, 6, 7, 8, 9],\n",
       "       [1, 1, 1, 1, 1],\n",
       "       [1, 1, 1, 1, 1]])"
      ]
     },
     "execution_count": 31,
     "metadata": {},
     "output_type": "execute_result"
    }
   ],
   "source": [
    "#8.How to stack two arrays vertically?\n",
    "n=np.arange(10).reshape(2,5)\n",
    "c=np.repeat(1,10).reshape(2,5)\n",
    "v=np.vstack([n,c])\n",
    "v"
   ]
  },
  {
   "cell_type": "code",
   "execution_count": 39,
   "id": "78af0157-7e8d-4b4d-b69b-f2ba40582d2a",
   "metadata": {},
   "outputs": [
    {
     "data": {
      "text/plain": [
       "array([[0, 1, 2, 3, 4, 2, 2, 2, 2, 2],\n",
       "       [5, 6, 7, 8, 9, 2, 2, 2, 2, 2]])"
      ]
     },
     "execution_count": 39,
     "metadata": {},
     "output_type": "execute_result"
    }
   ],
   "source": [
    "#9.Stack the arrays a and b horizontally\n",
    "a=np.arange(10).reshape(2,5)\n",
    "b=np.repeat(2,10).reshape(2,5)\n",
    "h=np.hstack([a,b])\n",
    "h"
   ]
  },
  {
   "cell_type": "code",
   "execution_count": 45,
   "id": "dbf99733-2a8d-4d58-939d-b9187e00d08e",
   "metadata": {},
   "outputs": [
    {
     "name": "stdout",
     "output_type": "stream",
     "text": [
      "common items of 2 array\n"
     ]
    },
    {
     "data": {
      "text/plain": [
       "array([0, 2, 4, 8, 9])"
      ]
     },
     "execution_count": 45,
     "metadata": {},
     "output_type": "execute_result"
    }
   ],
   "source": [
    "10.#How to get the common items between two python numpy arrays?\n",
    "a=np.arange(10)\n",
    "b=np.array([2,15,8,9,45,13,0,21,17,4])\n",
    "print(\"common items of 2 array\")\n",
    "n=np.intersect1d(a,b)\n",
    "n\n"
   ]
  },
  {
   "cell_type": "code",
   "execution_count": 47,
   "id": "aeca2b11-cd89-4214-b2b1-ec62cbf7159c",
   "metadata": {},
   "outputs": [
    {
     "data": {
      "text/plain": [
       "array([1, 3, 4, 5])"
      ]
     },
     "execution_count": 47,
     "metadata": {},
     "output_type": "execute_result"
    }
   ],
   "source": [
    "#11.How to remove from one array those items that exist in another?\n",
    "#From array a remove all items present in array b\n",
    "a=np.array([2,1,3,5,4])\n",
    "b=np.array([2,6,7,8])\n",
    "np.setdiff1d(a,b)"
   ]
  },
  {
   "cell_type": "code",
   "execution_count": 81,
   "id": "e77e8eb4-6c59-40ff-925c-34b00f858678",
   "metadata": {},
   "outputs": [
    {
     "data": {
      "text/plain": [
       "(array([0, 2, 4], dtype=int64),)"
      ]
     },
     "execution_count": 81,
     "metadata": {},
     "output_type": "execute_result"
    }
   ],
   "source": [
    "#12.. How to get the positions where elements of two arrays match\n",
    "m=np.array([2,6,8,12,14,56,9,3])\n",
    "n=np.array([2,12,8,0,14,6,13,67])\n",
    "v=np.where(m==n)\n",
    "v"
   ]
  },
  {
   "cell_type": "code",
   "execution_count": 87,
   "id": "c6ef70e5-91d0-4512-9e80-c95f41da1eb9",
   "metadata": {},
   "outputs": [
    {
     "data": {
      "text/plain": [
       "array([ 6,  9, 10])"
      ]
     },
     "execution_count": 87,
     "metadata": {},
     "output_type": "execute_result"
    }
   ],
   "source": [
    "#13.Get all items between 5 and 10 from a.\n",
    "ar = np.array([2, 6, 1, 9, 10, 3, 27])\n",
    "ar[(ar>=5) & (ar<=10)]"
   ]
  },
  {
   "cell_type": "code",
   "execution_count": 95,
   "id": "314c06a8-da0b-4feb-a5bd-0953484f372d",
   "metadata": {},
   "outputs": [
    {
     "data": {
      "text/plain": [
       "array([[0, 2, 1],\n",
       "       [3, 5, 4],\n",
       "       [6, 8, 7]])"
      ]
     },
     "execution_count": 95,
     "metadata": {},
     "output_type": "execute_result"
    }
   ],
   "source": [
    "#14.How to swap two columns in a 2d numpy array?\n",
    "a=np.arange(9).reshape(3,3)\n",
    "a[:,[0,2,1]]\n"
   ]
  },
  {
   "cell_type": "code",
   "execution_count": 97,
   "id": "afa0e9ed-2df1-46ee-98d3-7476f1355170",
   "metadata": {},
   "outputs": [
    {
     "data": {
      "text/plain": [
       "array([[3, 4, 5],\n",
       "       [0, 1, 2],\n",
       "       [6, 7, 8]])"
      ]
     },
     "execution_count": 97,
     "metadata": {},
     "output_type": "execute_result"
    }
   ],
   "source": [
    "#15.How to swap two rows in a 2d numpy array?\n",
    "#Swap rows 1 and 2 in the array arr:\n",
    "a=np.arange(9).reshape(3,3)\n",
    "a[[1,0,2],:]\n"
   ]
  },
  {
   "cell_type": "code",
   "execution_count": 106,
   "id": "24c3f2f9-64c4-4d49-a690-27bfde89d79e",
   "metadata": {},
   "outputs": [
    {
     "data": {
      "text/plain": [
       "array([[6, 7, 8],\n",
       "       [3, 4, 5],\n",
       "       [0, 1, 2]])"
      ]
     },
     "execution_count": 106,
     "metadata": {},
     "output_type": "execute_result"
    }
   ],
   "source": [
    "# 16.How to reverse the rows of a 2D array?\n",
    "arr=np.arange(9).reshape(3,3)\n",
    "arr[::-1,:]"
   ]
  },
  {
   "cell_type": "code",
   "execution_count": 108,
   "id": "4783bb0e-e921-477b-b833-a807dab51c4b",
   "metadata": {},
   "outputs": [
    {
     "data": {
      "text/plain": [
       "array([[ 3,  2,  1,  0],\n",
       "       [ 7,  6,  5,  4],\n",
       "       [11, 10,  9,  8]])"
      ]
     },
     "execution_count": 108,
     "metadata": {},
     "output_type": "execute_result"
    }
   ],
   "source": [
    "#17.. How to reverse the columns of a 2D array?\n",
    "a=np.arange(12).reshape(3,4)\n",
    "a[:,::-1]\n"
   ]
  },
  {
   "cell_type": "code",
   "execution_count": 112,
   "id": "41e6eefb-f9fa-4eba-bb67-fcf859ed9cf8",
   "metadata": {},
   "outputs": [
    {
     "data": {
      "text/plain": [
       "array([[5.04235221, 7.32960346, 5.04598229],\n",
       "       [6.43477484, 9.79820414, 8.96604469],\n",
       "       [5.60172329, 8.75839831, 6.5624469 ],\n",
       "       [5.52267785, 6.76097585, 8.94560767],\n",
       "       [9.91997776, 7.98527842, 9.60380124]])"
      ]
     },
     "execution_count": 112,
     "metadata": {},
     "output_type": "execute_result"
    }
   ],
   "source": [
    "#18Question: Create a 2D array of shape 5x3 to contain random decimal numbers between 5 and 10\n",
    "arr=np.random.uniform(5,10,size=(5,3))\n",
    "arr"
   ]
  },
  {
   "cell_type": "code",
   "execution_count": 3,
   "id": "2a2a8195-9908-4a40-a780-ae0ba376ea9c",
   "metadata": {},
   "outputs": [
    {
     "name": "stdout",
     "output_type": "stream",
     "text": [
      "[False  True False False  True False]\n"
     ]
    }
   ],
   "source": [
    "#19Convert a 1D array to a boolean array where all positive values become True.\n",
    "import numpy as np\n",
    "arr = np.array([-1, 2, 0, -5, 6,-7])\n",
    "bool=arr>0\n",
    "print(bool)"
   ]
  },
  {
   "cell_type": "code",
   "execution_count": 7,
   "id": "9af066d8-3000-404f-8357-e4eefba9b1b6",
   "metadata": {},
   "outputs": [
    {
     "name": "stdout",
     "output_type": "stream",
     "text": [
      "[ 1 -2  3 -4  5 -6  7 -8  9]\n"
     ]
    }
   ],
   "source": [
    "#20.Replace all even numbers in a 1D array with their negative\n",
    "a=np.arange(1,10)\n",
    "a[a%2==0]*=-1\n",
    "print(a)"
   ]
  },
  {
   "cell_type": "code",
   "execution_count": 11,
   "id": "ed656d40-bb73-4df1-aef4-8fa7b2ba44b0",
   "metadata": {},
   "outputs": [
    {
     "data": {
      "text/plain": [
       "array([9, 8, 7, 6, 5, 4, 3, 2, 1, 0])"
      ]
     },
     "execution_count": 11,
     "metadata": {},
     "output_type": "execute_result"
    }
   ],
   "source": [
    "#21.Reverse a 1D array (first element becomes the last)\n",
    "a=np.arange(10)\n",
    "a[::-1]"
   ]
  },
  {
   "cell_type": "code",
   "execution_count": 13,
   "id": "e15815a3-95ae-4b70-91e3-de7bc82e8199",
   "metadata": {},
   "outputs": [
    {
     "data": {
      "text/plain": [
       "array([[1., 0., 0.],\n",
       "       [0., 1., 0.],\n",
       "       [0., 0., 1.]])"
      ]
     },
     "execution_count": 13,
     "metadata": {},
     "output_type": "execute_result"
    }
   ],
   "source": [
    "#22.Create a 3x3 identity matrix\n",
    "a=np.eye(3)\n",
    "a"
   ]
  },
  {
   "cell_type": "code",
   "execution_count": 15,
   "id": "e697b596-cbe8-4cb4-97fb-8d084de908b3",
   "metadata": {},
   "outputs": [
    {
     "data": {
      "text/plain": [
       "array([[0, 1],\n",
       "       [2, 3],\n",
       "       [4, 5],\n",
       "       [6, 7],\n",
       "       [8, 9]])"
      ]
     },
     "execution_count": 15,
     "metadata": {},
     "output_type": "execute_result"
    }
   ],
   "source": [
    "#Reshape a 1D array to a 2D array with 5 rows and 2 columns\n",
    "a=np.arange(10)\n",
    "a.reshape(5,2)"
   ]
  },
  {
   "cell_type": "code",
   "execution_count": 19,
   "id": "4dc84532-c75e-4ebc-ae45-b0358cb74b57",
   "metadata": {},
   "outputs": [
    {
     "data": {
      "text/plain": [
       "array([[0., 1., 2., 3., 4.],\n",
       "       [0., 1., 2., 3., 4.],\n",
       "       [0., 1., 2., 3., 4.],\n",
       "       [0., 1., 2., 3., 4.],\n",
       "       [0., 1., 2., 3., 4.]])"
      ]
     },
     "execution_count": 19,
     "metadata": {},
     "output_type": "execute_result"
    }
   ],
   "source": [
    "#24.Create a 5x5 matrix with row values ranging from 0 to 4.\n",
    "m=np.zeros((5,5))\n",
    "m+=np.arange(5)\n",
    "m"
   ]
  },
  {
   "cell_type": "code",
   "execution_count": 21,
   "id": "016fcf4d-ff00-459d-b940-622e587ff2d5",
   "metadata": {},
   "outputs": [
    {
     "data": {
      "text/plain": [
       "array([[1., 1., 1., 1., 1.],\n",
       "       [1., 0., 0., 0., 1.],\n",
       "       [1., 0., 0., 0., 1.],\n",
       "       [1., 0., 0., 0., 1.],\n",
       "       [1., 1., 1., 1., 1.]])"
      ]
     },
     "execution_count": 21,
     "metadata": {},
     "output_type": "execute_result"
    }
   ],
   "source": [
    "#25.Create a 2D array with 1 on the border and 0 inside.\n",
    "a=np.ones((5,5))\n",
    "a[1:-1,1:-1]=0\n",
    "a"
   ]
  },
  {
   "cell_type": "code",
   "execution_count": 25,
   "id": "269c5062-a0c1-4eb9-995e-28e2d72f97d7",
   "metadata": {},
   "outputs": [
    {
     "data": {
      "text/plain": [
       "array([[ 4,  5,  6],\n",
       "       [ 8, 10, 12],\n",
       "       [12, 15, 18]])"
      ]
     },
     "execution_count": 25,
     "metadata": {},
     "output_type": "execute_result"
    }
   ],
   "source": [
    "#Compute the outer product of two arrays\n",
    "a=np.array([1,2,3])\n",
    "b=np.array([4,5,6])\n",
    "outer=np.outer(a,b)\n",
    "outer"
   ]
  },
  {
   "cell_type": "code",
   "execution_count": 27,
   "id": "e1a82bf1-1d78-4144-a524-d800c38bd626",
   "metadata": {},
   "outputs": [
    {
     "data": {
      "text/plain": [
       "array([-3,  6, -3])"
      ]
     },
     "execution_count": 27,
     "metadata": {},
     "output_type": "execute_result"
    }
   ],
   "source": [
    "#26.Compute the cross product of two 3D arrays.\n",
    "a=np.array([1,2,3])\n",
    "b=np.array([4,5,6])\n",
    "cross=np.cross(a,b)\n",
    "cross"
   ]
  },
  {
   "cell_type": "code",
   "execution_count": 29,
   "id": "da58389f-d9f8-40b1-bc9b-476ae7d2ee93",
   "metadata": {},
   "outputs": [
    {
     "data": {
      "text/plain": [
       "array([0, 1, 2, 3, 4, 0])"
      ]
     },
     "execution_count": 29,
     "metadata": {},
     "output_type": "execute_result"
    }
   ],
   "source": [
    "#27.Create a 1D array and add a border of 0s around it\n",
    "a=np.array([1,2,3,4])\n",
    "border=np.pad(a,(1,1))\n",
    "border"
   ]
  },
  {
   "cell_type": "code",
   "execution_count": 31,
   "id": "825adf69-ed6a-49f9-ab6c-7d1febae3e90",
   "metadata": {},
   "outputs": [
    {
     "data": {
      "text/plain": [
       "array([[0.82446965, 0.01470733, 0.22754598, 0.90719342],\n",
       "       [0.30491317, 0.10466715, 0.08744016, 0.58354837],\n",
       "       [0.0014109 , 0.5643761 , 0.84927554, 0.39587843]])"
      ]
     },
     "execution_count": 31,
     "metadata": {},
     "output_type": "execute_result"
    }
   ],
   "source": [
    "#28.Create a random 2D array and sort it by the second column.\n",
    "a=np.random.random((3,4))\n",
    "sec_col=a[a[:,1].argsort()]\n",
    "sec_col"
   ]
  },
  {
   "cell_type": "code",
   "execution_count": 33,
   "id": "49263d3e-7195-4f3d-af13-e644dc77c906",
   "metadata": {},
   "outputs": [
    {
     "data": {
      "text/plain": [
       "array([ 5,  0, 30,  0,  0, 25])"
      ]
     },
     "execution_count": 33,
     "metadata": {},
     "output_type": "execute_result"
    }
   ],
   "source": [
    "#29.Create a 1D array and set the values between 10 and 20 to 0\n",
    "a=np.array([5,15,30,18,12,25])\n",
    "a[(a>=10) & (a<=20)]=0\n",
    "a\n"
   ]
  },
  {
   "cell_type": "code",
   "execution_count": 37,
   "id": "e7d6bdf2-61f2-4d17-80e1-9b441c0bcd6f",
   "metadata": {},
   "outputs": [
    {
     "data": {
      "text/plain": [
       "array([ 4,  5,  6,  7, 10])"
      ]
     },
     "execution_count": 37,
     "metadata": {},
     "output_type": "execute_result"
    }
   ],
   "source": [
    "#30.Create a 1D array and append a new element to the end.\n",
    "a=np.array([4,5,6,7])\n",
    "new=10\n",
    "a=np.append(a,new)\n",
    "a"
   ]
  },
  {
   "cell_type": "code",
   "execution_count": 39,
   "id": "a926c0fd-192f-4e50-87da-c0992f9c2629",
   "metadata": {},
   "outputs": [
    {
     "data": {
      "text/plain": [
       "array([10, 24,  3, 11,  2,  8])"
      ]
     },
     "execution_count": 39,
     "metadata": {},
     "output_type": "execute_result"
    }
   ],
   "source": [
    "#31.Calculate the element-wise absolute difference between two arrays\n",
    "a=np.array([12,34,5,67,8,9])\n",
    "b=np.array([2,10,2,56,6,1])\n",
    "abso=np.abs(a-b)\n",
    "abso"
   ]
  },
  {
   "cell_type": "code",
   "execution_count": 43,
   "id": "e909f1ce-551c-4d5d-a9d8-678bfa6aaddb",
   "metadata": {},
   "outputs": [
    {
     "data": {
      "text/plain": [
       "array(['1', '4', '6', '8'], dtype='<U11')"
      ]
     },
     "execution_count": 43,
     "metadata": {},
     "output_type": "execute_result"
    }
   ],
   "source": [
    "#32.Convert the elements of a 1D array to strings\n",
    "a=np.array([1,4,6,8])\n",
    "string=a.astype(str)\n",
    "string"
   ]
  },
  {
   "cell_type": "code",
   "execution_count": null,
   "id": "a2a39c37-6cf8-4563-94b7-ec4b08515d1c",
   "metadata": {},
   "outputs": [],
   "source": []
  }
 ],
 "metadata": {
  "kernelspec": {
   "display_name": "Python 3 (ipykernel)",
   "language": "python",
   "name": "python3"
  },
  "language_info": {
   "codemirror_mode": {
    "name": "ipython",
    "version": 3
   },
   "file_extension": ".py",
   "mimetype": "text/x-python",
   "name": "python",
   "nbconvert_exporter": "python",
   "pygments_lexer": "ipython3",
   "version": "3.12.4"
  }
 },
 "nbformat": 4,
 "nbformat_minor": 5
}
