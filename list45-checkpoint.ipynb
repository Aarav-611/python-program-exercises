{
 "cells": [
  {
   "cell_type": "code",
   "execution_count": 1,
   "id": "fb4b497f-fc53-4701-aaa4-f7c71d713baf",
   "metadata": {},
   "outputs": [
    {
     "name": "stdout",
     "output_type": "stream",
     "text": [
      "sum of all itemes in list: 119\n"
     ]
    }
   ],
   "source": [
    "#1. Write a Python program to sum all the items in a list.\n",
    "#solution 1:\n",
    "list=[12,34,56,8,9]\n",
    "sum=0\n",
    "for i in range(0,len(list)):\n",
    "    sum=sum+list[i]\n",
    "print(\"sum of all itemes in list:\",sum) "
   ]
  },
  {
   "cell_type": "code",
   "execution_count": 3,
   "id": "2ca99ad3-21d7-4cc1-82c0-fe320b1f9b5e",
   "metadata": {},
   "outputs": [
    {
     "name": "stdout",
     "output_type": "stream",
     "text": [
      "8\n"
     ]
    }
   ],
   "source": [
    "#2WAP to multiplies all the itemes in a list\n",
    "a=[1,2,4]\n",
    "result=1\n",
    "for i in a:\n",
    "  result=result*i\n",
    "print(result)"
   ]
  },
  {
   "cell_type": "code",
   "execution_count": 1,
   "id": "c92e202a-9f48-4c88-b337-e9010a3db65f",
   "metadata": {},
   "outputs": [
    {
     "name": "stdout",
     "output_type": "stream",
     "text": [
      "largest no is: 889\n",
      "largest no is: 889\n"
     ]
    }
   ],
   "source": [
    "#3. Write a Python program to get the largest number from a list.\n",
    "#solution 1:\n",
    "n=[23,76,4,889,46,9]\n",
    "s=max(n)\n",
    "print(\"largest no is:\",s)\n",
    "#solution 2:\n",
    "n=[23,76,4,889,46,9]\n",
    "n.sort()\n",
    "print(\"largest no is:\",n[-1])"
   ]
  },
  {
   "cell_type": "code",
   "execution_count": 3,
   "id": "218fbe0a-84e0-4257-8a33-518d349b0c86",
   "metadata": {},
   "outputs": [
    {
     "name": "stdout",
     "output_type": "stream",
     "text": [
      "smallest no is: 1\n"
     ]
    }
   ],
   "source": [
    "#4. Write a Python program to get the smallest number from a list.\n",
    "n=n=[23,76,4,889,46,9,1]\n",
    "n.sort()\n",
    "print(\"smallest no is:\",n[0])"
   ]
  },
  {
   "cell_type": "code",
   "execution_count": 5,
   "id": "d3786bc8-3ebf-4527-8e75-d299e6a3c644",
   "metadata": {},
   "outputs": [
    {
     "ename": "TypeError",
     "evalue": "object of type 'int' has no len()",
     "output_type": "error",
     "traceback": [
      "\u001b[1;31m---------------------------------------------------------------------------\u001b[0m",
      "\u001b[1;31mTypeError\u001b[0m                                 Traceback (most recent call last)",
      "Cell \u001b[1;32mIn[5], line 4\u001b[0m\n\u001b[0;32m      2\u001b[0m s : [\u001b[38;5;124m'\u001b[39m\u001b[38;5;124mabc\u001b[39m\u001b[38;5;124m'\u001b[39m, \u001b[38;5;124m'\u001b[39m\u001b[38;5;124mxyz\u001b[39m\u001b[38;5;124m'\u001b[39m, \u001b[38;5;124m'\u001b[39m\u001b[38;5;124maba\u001b[39m\u001b[38;5;124m'\u001b[39m, \u001b[38;5;124m'\u001b[39m\u001b[38;5;124m1221\u001b[39m\u001b[38;5;124m'\u001b[39m]\n\u001b[0;32m      3\u001b[0m count\u001b[38;5;241m=\u001b[39m\u001b[38;5;241m0\u001b[39m\n\u001b[1;32m----> 4\u001b[0m \u001b[38;5;28;01mif\u001b[39;00m (\u001b[38;5;28mlen\u001b[39m(s)\u001b[38;5;241m>\u001b[39m\u001b[38;5;241m=\u001b[39m\u001b[38;5;241m2\u001b[39m) \u001b[38;5;129;01mand\u001b[39;00m  (s[\u001b[38;5;241m0\u001b[39m]\u001b[38;5;241m==\u001b[39ms[\u001b[38;5;241m-\u001b[39m\u001b[38;5;241m1\u001b[39m]):\n\u001b[0;32m      5\u001b[0m    count\u001b[38;5;241m+\u001b[39m\u001b[38;5;241m=\u001b[39m\u001b[38;5;241m1\u001b[39m\n\u001b[0;32m      6\u001b[0m \u001b[38;5;28mprint\u001b[39m(count)\n",
      "\u001b[1;31mTypeError\u001b[0m: object of type 'int' has no len()"
     ]
    }
   ],
   "source": [
    "#5. Write a Python program to count the number of strings where the string lengt is 2 or more and the first and last character are same from a given list of strings.\n",
    "s : ['abc', 'xyz', 'aba', '1221']\n",
    "count=0\n",
    "if (len(s)>=2) and  (s[0]==s[-1]):\n",
    "   count+=1\n",
    "print(count)"
   ]
  },
  {
   "cell_type": "code",
   "execution_count": 7,
   "id": "376e6393-161c-4ac9-9911-a97bc103624b",
   "metadata": {},
   "outputs": [
    {
     "name": "stdout",
     "output_type": "stream",
     "text": [
      "[(2, 1), (1, 2), (2, 3), (4, 4), (2, 5)]\n"
     ]
    }
   ],
   "source": [
    "#6. Write a Python program to get a list, sorted in increasing order by the lastelement in each tuple from a given list of non-empty tuples.\n",
    "\n",
    "t= [(2, 5), (1, 2), (4, 4), (2, 3), (2, 1)]\n",
    "def Sort_Tuple(t):\n",
    " t.sort(key = lambda x: x[-1])  \n",
    " return t \n",
    "print(Sort_Tuple(t))"
   ]
  },
  {
   "cell_type": "code",
   "execution_count": 9,
   "id": "801517f4-6b7b-486f-b163-96644e4759ae",
   "metadata": {},
   "outputs": [
    {
     "name": "stdout",
     "output_type": "stream",
     "text": [
      "[4, 9, 76, 46, 23, 889]\n",
      "orignal list: [23, 4, 76, 4, 889, 46, 9, 46]\n",
      "after removing duplicate: [23, 4, 76, 889, 46, 9]\n"
     ]
    }
   ],
   "source": [
    "#7. Write a Python program to remove duplicates from a list.\n",
    "#solution 1\n",
    "n=[23,4,76,4,889,46,9,46]\n",
    "print(list(set(n)))\n",
    " \n",
    "#solution 2\n",
    "n=[23,4,76,4,889,46,9,46]\n",
    "print(\"orignal list:\",n)\n",
    "result=[]\n",
    "for i in n:\n",
    "    if i not in result:\n",
    "        result.append(i)\n",
    "print(\"after removing duplicate:\",result)\n"
   ]
  },
  {
   "cell_type": "code",
   "execution_count": 11,
   "id": "6aeffb01-a590-4097-99fe-23e585f69a08",
   "metadata": {},
   "outputs": [
    {
     "name": "stdout",
     "output_type": "stream",
     "text": [
      "list is empty:\n"
     ]
    }
   ],
   "source": [
    "#8. Write a Python program to check a list is empty or not.\n",
    "list=[]\n",
    "if list==[]:\n",
    "  print(\"list is empty:\")\n",
    "else:\n",
    "  print(\"list is not empty\")"
   ]
  },
  {
   "cell_type": "code",
   "execution_count": 13,
   "id": "4f618e34-869d-4875-807b-a9da2842f0fb",
   "metadata": {},
   "outputs": [
    {
     "name": "stdout",
     "output_type": "stream",
     "text": [
      "[1, 2, [3, 5], 4, 45]\n"
     ]
    }
   ],
   "source": [
    "#9. Write a Python program to clone or copy a list.\n",
    "import copy\n",
    "list1 = [1, 2, [3,5], 4,45]\n",
    "list2 = copy.copy(list1)\n",
    " \n",
    "print(list2)"
   ]
  },
  {
   "cell_type": "code",
   "execution_count": 15,
   "id": "e14cb744-3b9e-4f81-a3e7-53d0ccb2b5a7",
   "metadata": {},
   "outputs": [
    {
     "name": "stdout",
     "output_type": "stream",
     "text": [
      "True\n",
      "False\n"
     ]
    }
   ],
   "source": [
    "#11. Write a Python function that takes two lists and returns True if they have ateast one common member.\n",
    "def f1(a, b):\n",
    "    a1= set(a)\n",
    "    b1 = set(b)\n",
    "    if (a1 & b1):\n",
    "        return True\n",
    "    else:\n",
    "        return False\n",
    "         \n",
    " \n",
    "a = [1, 2, 3, 4, 5]\n",
    "b = [5, 6, 7, 8, 9]\n",
    "print(f1(a, b))\n",
    " \n",
    "a =[1, 2, 3, 4, 5]\n",
    "b =[6, 7, 8, 9]\n",
    "print(f1(a, b))"
   ]
  },
  {
   "cell_type": "code",
   "execution_count": 17,
   "id": "d5d946d7-629c-476b-a726-8b88a6f0553f",
   "metadata": {},
   "outputs": [
    {
     "name": "stdout",
     "output_type": "stream",
     "text": [
      "['Green', 'White', 'Black']\n"
     ]
    }
   ],
   "source": [
    "#12. Write a Python program to print a specified list after removing the 0th, 4thand 5th elements.\n",
    "l1= ['Red', 'Green', 'White', 'Black', 'Pink', 'Yellow']\n",
    "new=[]\n",
    "for index,value in enumerate(l1):\n",
    "  if index not in [0,4,5]:\n",
    "    new.append(value)\n",
    "print(new)"
   ]
  },
  {
   "cell_type": "code",
   "execution_count": 19,
   "id": "b6af1198-6003-4c78-92ae-bed71bfe9d9e",
   "metadata": {},
   "outputs": [
    {
     "name": "stdout",
     "output_type": "stream",
     "text": [
      "[[['*', '*', '*', '*', '*', '*'], ['*', '*', '*', '*', '*', '*'], ['*', '*', '*', '*', '*', '*'], ['*', '*', '*', '*', '*', '*']], [['*', '*', '*', '*', '*', '*'], ['*', '*', '*', '*', '*', '*'], ['*', '*', '*', '*', '*', '*'], ['*', '*', '*', '*', '*', '*']], [['*', '*', '*', '*', '*', '*'], ['*', '*', '*', '*', '*', '*'], ['*', '*', '*', '*', '*', '*'], ['*', '*', '*', '*', '*', '*']]]\n"
     ]
    }
   ],
   "source": [
    "#13. Write a Python program to generate a 3*4*6 3D array whose each element is*.\n",
    "array=[[[\"*\" for i in range(6)] for i in range(4)] for i in range(3)]\n",
    "print(array)"
   ]
  },
  {
   "cell_type": "code",
   "execution_count": 21,
   "id": "61abd386-6b44-424c-92f6-5518b8b2dc13",
   "metadata": {},
   "outputs": [
    {
     "name": "stdout",
     "output_type": "stream",
     "text": [
      "[1, 3, 5, 7]\n"
     ]
    }
   ],
   "source": [
    "#14. Write a Python program to print the numbers of a specified list after removing even numbers from it.\n",
    "n= [1, 2, 3, 4, 5,7]\n",
    "new_list=[x for x in n if x%2!=0]\n",
    "print(new_list)"
   ]
  },
  {
   "cell_type": "code",
   "execution_count": 25,
   "id": "b41c515b-56f2-4ea8-8a09-69b5f9ffa12a",
   "metadata": {},
   "outputs": [
    {
     "name": "stdout",
     "output_type": "stream",
     "text": [
      "[8, 1, 7, 6, 2, 4]\n"
     ]
    }
   ],
   "source": [
    "#15. Write a Python program to shuffle and print a specified list.\n",
    "from random import shuffle\n",
    "list=[1,2,4,6,7,8]\n",
    "shuffle(list)\n",
    "print(list)"
   ]
  },
  {
   "cell_type": "code",
   "execution_count": 27,
   "id": "3e751ba5-9cac-44a7-8ae3-75eb139f69ee",
   "metadata": {},
   "outputs": [
    {
     "name": "stdout",
     "output_type": "stream",
     "text": [
      "[1, 4, 9, 16, 25] [676, 729, 784, 841, 900]\n"
     ]
    }
   ],
   "source": [
    "#16. Write a Python program to generate and print a list of first and last 5elements where the values are square of numbers between 1 and 30 (both included).\n",
    "l1=[x**2 for x in range(1,31)]\n",
    "print(l1[:5],l1[-5:])"
   ]
  },
  {
   "cell_type": "code",
   "execution_count": 29,
   "id": "6b497d5c-cc62-4fe0-a8d7-c9607a430f0c",
   "metadata": {},
   "outputs": [
    {
     "name": "stdout",
     "output_type": "stream",
     "text": [
      "[36, 49, 64, 81, 100, 121, 144, 169, 196, 225, 256, 289, 324, 361, 400, 441, 484, 529, 576, 625, 676, 729, 784, 841, 900]\n"
     ]
    }
   ],
   "source": [
    "#17. Write a Python program to generate and print a list except for the first 5elements, where the values are square of numbers between 1 and 30 (bothincluded).\n",
    "list=[x**2 for x in range(1,31)]\n",
    "print(list[5:])"
   ]
  },
  {
   "cell_type": "code",
   "execution_count": 74,
   "id": "02e4d4cc-a787-44ae-af8c-9e0b60ecbe8c",
   "metadata": {},
   "outputs": [
    {
     "data": {
      "text/plain": [
       "{5, 6, 7}"
      ]
     },
     "execution_count": 74,
     "metadata": {},
     "output_type": "execute_result"
    }
   ],
   "source": [
    "#19. Write a Python program to get the difference between the two lists.\n",
    "a=[3,4,5,6,7]\n",
    "b=[3,4,9,10,12,13]\n",
    "a1=set(a)-set(b)\n",
    "a1"
   ]
  },
  {
   "cell_type": "code",
   "execution_count": 62,
   "id": "d5601818-a7e6-459b-babc-783774da7b25",
   "metadata": {},
   "outputs": [
    {
     "name": "stdout",
     "output_type": "stream",
     "text": [
      "0\n",
      "1\n",
      "2\n",
      "3\n",
      "4\n",
      "5\n"
     ]
    }
   ],
   "source": [
    "#20. Write a Python program access the index of a list.\n",
    "list=[23,45,67,89,2,3]\n",
    "for index,value in enumerate(list):\n",
    "  print(index)"
   ]
  },
  {
   "cell_type": "code",
   "execution_count": 50,
   "id": "a7fa0264-5a3e-4096-88c7-65a4cd0fdf75",
   "metadata": {},
   "outputs": [
    {
     "data": {
      "text/plain": [
       "'234567892'"
      ]
     },
     "execution_count": 50,
     "metadata": {},
     "output_type": "execute_result"
    }
   ],
   "source": [
    "#21. Write a Python program to convert a list of characters into a string.\n",
    "list=['23','45','67','89','2']\n",
    "\"\".join(list)"
   ]
  },
  {
   "cell_type": "code",
   "execution_count": 52,
   "id": "ac24e9cb-33c4-4462-bc7b-feaf83732ff6",
   "metadata": {},
   "outputs": [
    {
     "data": {
      "text/plain": [
       "2"
      ]
     },
     "execution_count": 52,
     "metadata": {},
     "output_type": "execute_result"
    }
   ],
   "source": [
    "#22. Write a Python program to find the index of an item in a specified list.\n",
    "list=[23,45,67,89,2,3]\n",
    "list.index(67)"
   ]
  },
  {
   "cell_type": "code",
   "execution_count": 58,
   "id": "e929c404-2dcc-4252-86ad-24b919466182",
   "metadata": {},
   "outputs": [
    {
     "name": "stdout",
     "output_type": "stream",
     "text": [
      "[3, 4, 5, 6, 7, 23, 45, 67, 89, 2, 3]\n"
     ]
    }
   ],
   "source": [
    "#24. Write a Python program to append a list to the second list.\n",
    "l1=[3,4,5,6,7]\n",
    "l2=[23,45,67,89,2,3]\n",
    "l=l1+l2\n",
    "print(l)"
   ]
  },
  {
   "cell_type": "code",
   "execution_count": null,
   "id": "39e9ffd0-7cd6-4602-94ff-f719b877d428",
   "metadata": {},
   "outputs": [],
   "source": []
  }
 ],
 "metadata": {
  "kernelspec": {
   "display_name": "Python 3 (ipykernel)",
   "language": "python",
   "name": "python3"
  },
  "language_info": {
   "codemirror_mode": {
    "name": "ipython",
    "version": 3
   },
   "file_extension": ".py",
   "mimetype": "text/x-python",
   "name": "python",
   "nbconvert_exporter": "python",
   "pygments_lexer": "ipython3",
   "version": "3.12.4"
  }
 },
 "nbformat": 4,
 "nbformat_minor": 5
}
