{
 "cells": [
  {
   "cell_type": "code",
   "execution_count": 3,
   "id": "64e4b98a-0576-446a-b485-e223c2329110",
   "metadata": {},
   "outputs": [
    {
     "name": "stdin",
     "output_type": "stream",
     "text": [
      "enter ur 1st no: 23\n",
      "enter ur 2nd no: 678\n"
     ]
    },
    {
     "name": "stdout",
     "output_type": "stream",
     "text": [
      "maximum no is: 678\n"
     ]
    }
   ],
   "source": [
    "#1.to find maximum betwwen 2 no\n",
    "num1=int(input('enter ur 1st no:'))\n",
    "num2=int(input('enter ur 2nd no:'))\n",
    "if num1>num2:\n",
    "    print('Maximum no is:',num1)\n",
    "else:\n",
    "    print(\"maximum no is:\",num2)"
   ]
  },
  {
   "cell_type": "code",
   "execution_count": 9,
   "id": "8ac437e1-acd3-483f-843b-7d197a13c65e",
   "metadata": {},
   "outputs": [
    {
     "name": "stdin",
     "output_type": "stream",
     "text": [
      "enter ur 1st no: 452\n",
      "enter ur 2nd no: 658\n",
      "enter ur 3nd no: 5\n"
     ]
    },
    {
     "name": "stdout",
     "output_type": "stream",
     "text": [
      "maximum no is: 658\n"
     ]
    }
   ],
   "source": [
    "#2.to find maximum among 3 no\n",
    "num1=int(input('enter ur 1st no:'))\n",
    "num2=int(input('enter ur 2nd no:'))\n",
    "num3=int(input('enter ur 3nd no:'))\n",
    "if num1>num2 and num1>num3:\n",
    "    print('maximum no is:',num1)\n",
    "elif num2>num3:\n",
    "    print('maximum no is:',num2)\n",
    "else:\n",
    "    print('maximum no is:',num3)"
   ]
  },
  {
   "cell_type": "code",
   "execution_count": 23,
   "id": "f10b9be8-72f8-4c02-8705-84833139064c",
   "metadata": {},
   "outputs": [
    {
     "name": "stdin",
     "output_type": "stream",
     "text": [
      "enter ur number: 0\n"
     ]
    },
    {
     "name": "stdout",
     "output_type": "stream",
     "text": [
      "number is zero\n"
     ]
    }
   ],
   "source": [
    "#3.check the no is negative,positive or zero\n",
    "num=int(input('enter ur number:'))\n",
    "if num>0:\n",
    " print(\"number is positive:\")\n",
    "elif num<0:\n",
    " print(\"number is negative:\")\n",
    "else:\n",
    "  print(\"number is zero\")"
   ]
  },
  {
   "cell_type": "code",
   "execution_count": 3,
   "id": "7a53078b-9cc1-4caf-bec5-86ae7e53cae5",
   "metadata": {},
   "outputs": [
    {
     "name": "stdin",
     "output_type": "stream",
     "text": [
      "enter ur no: 204\n"
     ]
    },
    {
     "name": "stdout",
     "output_type": "stream",
     "text": [
      "204 is a even no\n"
     ]
    }
   ],
   "source": [
    "#4.check wheather a no is even or odd\n",
    "num=int(input('enter ur no:'))\n",
    "if num%2==0:\n",
    "    print(num,\"is a even no\")\n",
    "else:\n",
    "    print(num,\"num is odd no\")\n"
   ]
  },
  {
   "cell_type": "code",
   "execution_count": 31,
   "id": "1b471e4f-1d87-46f6-8727-14987178e896",
   "metadata": {},
   "outputs": [
    {
     "name": "stdin",
     "output_type": "stream",
     "text": [
      "enter ur 1st no 52\n"
     ]
    },
    {
     "name": "stdout",
     "output_type": "stream",
     "text": [
      "52 is not  divisible by 5 and 11\n"
     ]
    }
   ],
   "source": [
    "# 5.check wheather no is divisible by 5 and 11\n",
    "num1=int(input('enter ur  no'))\n",
    "if (num1%5==0) and (num1%11==0):\n",
    " print(num1,\"is divisible by 5 and 11\")\n",
    "else:\n",
    " print(num1,\"is not  divisible by 5 and 11\")\n",
    "  "
   ]
  },
  {
   "cell_type": "code",
   "execution_count": 37,
   "id": "3fc4ad82-f6f1-43e4-b007-ca2fca692cdd",
   "metadata": {},
   "outputs": [
    {
     "name": "stdin",
     "output_type": "stream",
     "text": [
      "enter ur no 56\n"
     ]
    },
    {
     "name": "stdout",
     "output_type": "stream",
     "text": [
      "56 no is even\n"
     ]
    }
   ],
   "source": [
    "#6.check whether a no is even or odd\n",
    "num=int(input('enter ur no'))\n",
    "if num%2==0:\n",
    "    print(num,\"no is even\")\n",
    "else:\n",
    "    print(num,'no is odd:')"
   ]
  },
  {
   "cell_type": "code",
   "execution_count": 43,
   "id": "418548d5-2d42-4df1-bebb-831e26417ce2",
   "metadata": {},
   "outputs": [
    {
     "name": "stdin",
     "output_type": "stream",
     "text": [
      "Enter the year: 1996\n"
     ]
    },
    {
     "name": "stdout",
     "output_type": "stream",
     "text": [
      "1996 is  leap year\n"
     ]
    }
   ],
   "source": [
    "#7.check whether a year is leap year or not\n",
    "year=int(input(\"Enter the year:\"))\n",
    "if year%400==0 and year%100==0:\n",
    " print(year,'is leap year')\n",
    "elif year%4==0 and year%100!=0:\n",
    " print(year ,'is  leap year')\n",
    "else:\n",
    "   print(year,'is a not leap year')"
   ]
  },
  {
   "cell_type": "code",
   "execution_count": 53,
   "id": "80cf82c3-83af-4754-9609-11be814f4006",
   "metadata": {},
   "outputs": [
    {
     "name": "stdin",
     "output_type": "stream",
     "text": [
      "enter ur character: A\n"
     ]
    },
    {
     "name": "stdout",
     "output_type": "stream",
     "text": [
      "A is a alphabet:\n"
     ]
    }
   ],
   "source": [
    "#8.check a character is a alphabet or not\n",
    "char=input('enter ur character:')\n",
    "if (char>='a' and char<='z') or (char>='A' and char<='Z'):\n",
    "    print(char,'is a alphabet:')\n",
    "else:\n",
    "    print(char,'is not alphabet')"
   ]
  },
  {
   "cell_type": "code",
   "execution_count": 80,
   "id": "63efbff3-e774-4d35-b3cd-e714bf3f4e1b",
   "metadata": {},
   "outputs": [
    {
     "name": "stdin",
     "output_type": "stream",
     "text": [
      "enter ur character: A\n"
     ]
    },
    {
     "name": "stdout",
     "output_type": "stream",
     "text": [
      "A is UpperCase alphabet:\n"
     ]
    }
   ],
   "source": [
    "#9.check whether character is uppercase or lowercase alphabet\n",
    "char=input('enter ur character:')\n",
    "if char>='A' and char<='Z':\n",
    "    print(char,'is UpperCase alphabet:')\n",
    "elif (char>='a' and char<='z'):\n",
    "    print(char,'is a LowerCase alphabet:')\n",
    "else:\n",
    "     print(char,'is not alphabet:')\n",
    "    "
   ]
  },
  {
   "cell_type": "code",
   "execution_count": null,
   "id": "e045f1e3-a378-4cc0-9b46-be40d111d022",
   "metadata": {},
   "outputs": [],
   "source": [
    "#10."
   ]
  },
  {
   "cell_type": "code",
   "execution_count": 1,
   "id": "03f9a0a3-e3d8-4a64-b18b-f6bb935a438c",
   "metadata": {},
   "outputs": [
    {
     "name": "stdin",
     "output_type": "stream",
     "text": [
      "enter the 1st angle: 30\n",
      "enter the 2nd angle: 60\n",
      "enter the 3rd angle: 90\n"
     ]
    },
    {
     "name": "stdout",
     "output_type": "stream",
     "text": [
      "Triangle is valid:\n"
     ]
    }
   ],
   "source": [
    "#11.write a program to input angles of a triangle and check whether a triangle is valid or not:\n",
    "angle_1=int(input(\"enter the 1st angle:\"))\n",
    "angle_2=int(input(\"enter the 2nd angle:\"))\n",
    "angle_3=int(input(\"enter the 3rd angle:\"))\n",
    "total=angle_1+angle_2+angle_3\n",
    "if total==180 and angle_1!=0 and angle_2!=0 and angle_3!=0:\n",
    "    print(\"Triangle is valid:\")\n",
    "else:\n",
    "    print(\"Triangle is not valid:\")"
   ]
  },
  {
   "cell_type": "code",
   "execution_count": 3,
   "id": "194351fb-87ee-4dec-85e4-bf4b42cad795",
   "metadata": {},
   "outputs": [
    {
     "name": "stdin",
     "output_type": "stream",
     "text": [
      "enter ur 1st side: 5\n",
      "enter ur 2nd side: 6\n",
      "enter ur 3rd side: 2\n"
     ]
    },
    {
     "name": "stdout",
     "output_type": "stream",
     "text": [
      "Triangle is valid\n"
     ]
    }
   ],
   "source": [
    "#12.write a program to input all sides of a triangle and check whether triangle is valid or not\n",
    "a=int(input(\"enter ur 1st side:\"))\n",
    "b=int(input(\"enter ur 2nd side:\"))\n",
    "c=int(input(\"enter ur 3rd side:\"))\n",
    "if a+b>c and b+c>a and a+c>b:\n",
    "  print(\"Triangle is valid\")\n",
    "else:\n",
    "    print(\"Triangle is not valid:\")"
   ]
  },
  {
   "cell_type": "code",
   "execution_count": 10,
   "id": "c3ecb5c2-a8e9-42b1-b22d-fa0cf486f28e",
   "metadata": {},
   "outputs": [
    {
     "name": "stdin",
     "output_type": "stream",
     "text": [
      "enter ur 1st side: 30\n",
      "enter ur 2nd side: 30\n",
      "enter ur 3rd side: 10\n"
     ]
    },
    {
     "name": "stdout",
     "output_type": "stream",
     "text": [
      " triangle is isosceles:\n"
     ]
    }
   ],
   "source": [
    "#13 WAP to check whether the triangle is equiuilateral,isosceles or scalene triangle\n",
    "a=int(input(\"enter ur 1st side:\"))\n",
    "b=int(input(\"enter ur 2nd side:\"))\n",
    "c=int(input(\"enter ur 3rd side:\"))\n",
    "if a==b and b==c:\n",
    "    print(\" Triangle is equiuilateral:\")\n",
    "elif a==b or b==c or a==c:\n",
    "     print(\" triangle is isosceles:\")\n",
    "else:\n",
    "    print( 'Triangle is scalene')"
   ]
  },
  {
   "cell_type": "code",
   "execution_count": 13,
   "id": "952a9411-53b0-4aaa-a4cc-af6b9d59228e",
   "metadata": {},
   "outputs": [
    {
     "name": "stdin",
     "output_type": "stream",
     "text": [
      "enter ur actual cost: 450\n",
      "enter ur selling cost: 200\n"
     ]
    },
    {
     "name": "stdout",
     "output_type": "stream",
     "text": [
      "you are in loss -250\n"
     ]
    }
   ],
   "source": [
    "#14.WAP to calculate profit or loss.input is selling cost and actual cost\n",
    "AC=int(input(\"enter ur actual cost:\"))\n",
    "SC=int(input(\"enter ur selling cost:\"))\n",
    "result=SC-AC\n",
    "if result>0:\n",
    "    print(\"you are in profit\",result)\n",
    "else:\n",
    "      print(\"you are in loss\",result)\n",
    "    \n"
   ]
  },
  {
   "cell_type": "code",
   "execution_count": 23,
   "id": "4d0c9b0f-2501-42c6-acce-b98bca52c319",
   "metadata": {},
   "outputs": [
    {
     "name": "stdin",
     "output_type": "stream",
     "text": [
      "enter ur physics mark: 94\n",
      "enter ur chemistry mark: 85\n",
      "enter ur biology mark: 58\n",
      "enter ur maths mark: 89\n",
      "enter ur computer mark 89\n"
     ]
    },
    {
     "name": "stdout",
     "output_type": "stream",
     "text": [
      "you get a Grade B\n"
     ]
    }
   ],
   "source": [
    "#15.write a pthon program to input marks of five subjects Physics,Chemistry,Biology,Maths,computer calculate persentage and grade\n",
    "p1=float(input(\"enter ur physics mark:\"))\n",
    "c1=float(input(\"enter ur chemistry mark:\"))\n",
    "b1=float(input(\"enter ur biology mark:\"))\n",
    "m1=float(input(\"enter ur maths mark:\"))\n",
    "comp1=float(input(\"enter ur computer mark\"))\n",
    "total=p1+c1+b1+m1+comp1\n",
    "per=(total/500)*100\n",
    "if (per>=90):\n",
    "    print(\"you get a Grade A\")\n",
    "elif per>=80:\n",
    "    print(\"you get a Grade B\")\n",
    "elif per>=70:\n",
    "    print(\"you get a Grade C\")\n",
    "elif per>=60:\n",
    "    print(\"you get a Grade D\")\n",
    "elif per>=40:\n",
    "    print(\"you get a Grade E\")\n",
    "elif per<40:\n",
    "    print(print(\"you get a Grade F\"))"
   ]
  },
  {
   "cell_type": "code",
   "execution_count": 7,
   "id": "cf3c76d3-6d8a-4d23-948f-16c7780012ca",
   "metadata": {},
   "outputs": [
    {
     "name": "stdin",
     "output_type": "stream",
     "text": [
      "Enter Your Amount :  2887\n"
     ]
    },
    {
     "name": "stdout",
     "output_type": "stream",
     "text": [
      "use 1 notes of\t 2000 ₹\n",
      "use 1 notes of\t 500 ₹\n",
      "use 1 notes of\t 200 ₹\n",
      "use 1 notes of\t 100 ₹\n",
      "use 1 notes of\t 50 ₹\n",
      "use 1 notes of\t 20 ₹\n",
      "use 1 notes of\t 10 ₹\n",
      "use 1 notes of\t 5 ₹\n",
      "use 1 notes of\t 2 ₹\n"
     ]
    }
   ],
   "source": [
    "#16\n",
    "#WAP to count the total number of notes in given amount Program to Count Total Number of Notes in Given Amount using Loop\n",
    "notes = (2000,500,200,100,50,20,10,5,2)\n",
    "amt = int(input(\"Enter Your Amount : \"))\n",
    "#Enter 2887 in ammount for count all notes minimum 1 time\n",
    "\n",
    "for n in notes:\n",
    "    counts = amt//n\n",
    "    print(\"use\",counts,\"notes of\\t\",n,\"₹\")\n",
    "    amt = amt%n\n"
   ]
  },
  {
   "cell_type": "code",
   "execution_count": 5,
   "id": "abf3c75b-f2ae-49c8-95a7-6d7863aa7da1",
   "metadata": {},
   "outputs": [
    {
     "name": "stdin",
     "output_type": "stream",
     "text": [
      "enter basic salery : 180000\n"
     ]
    },
    {
     "name": "stdout",
     "output_type": "stream",
     "text": [
      "Gross salery Rs : 414000.0\n"
     ]
    }
   ],
   "source": [
    "#17.#WAP to input basic python salery of an employee and calculate its gross salery according to following: gross salery = basic +allow + HRA +DA - PF\n",
    "bs = int(input(\"enter basic salery :\"))\n",
    "if (bs<=10000):\n",
    "  HRA = bs*0.2\n",
    "  DA = bs*0.8\n",
    "elif (bs<=20000):\n",
    "  HRA = bs*0.3\n",
    "  DA = bs*0.9\n",
    "elif (bs>20000):\n",
    "  HRA = bs*0.35\n",
    "\n",
    "  DA = bs*0.95\n",
    "\n",
    "  gs = bs +HRA +DA\n",
    "  print(\"Gross salery Rs :\", gs)\n",
    "else:\n",
    "  pass"
   ]
  },
  {
   "cell_type": "code",
   "execution_count": null,
   "id": "631978a8-1a32-483d-b7ce-fa7ed9c3d677",
   "metadata": {},
   "outputs": [],
   "source": []
  }
 ],
 "metadata": {
  "kernelspec": {
   "display_name": "Python 3 (ipykernel)",
   "language": "python",
   "name": "python3"
  },
  "language_info": {
   "codemirror_mode": {
    "name": "ipython",
    "version": 3
   },
   "file_extension": ".py",
   "mimetype": "text/x-python",
   "name": "python",
   "nbconvert_exporter": "python",
   "pygments_lexer": "ipython3",
   "version": "3.12.4"
  }
 },
 "nbformat": 4,
 "nbformat_minor": 5
}
