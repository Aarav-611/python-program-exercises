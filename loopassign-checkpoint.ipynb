{
 "cells": [
  {
   "cell_type": "code",
   "execution_count": 5,
   "id": "5170106c-712a-4dd2-a284-5a23d731f7ff",
   "metadata": {},
   "outputs": [
    {
     "name": "stdin",
     "output_type": "stream",
     "text": [
      "enter the any no 15\n"
     ]
    },
    {
     "name": "stdout",
     "output_type": "stream",
     "text": [
      "1 2 3 4 5 6 7 8 9 10 11 12 13 14 15 "
     ]
    }
   ],
   "source": [
    "#1.WAP to print all natural no from 1 to n using while loop\n",
    "n=int(input ('enter the any no'))\n",
    "i=1\n",
    "while(i<=n):\n",
    " print(i,end=' ')\n",
    " i+=1"
   ]
  },
  {
   "cell_type": "code",
   "execution_count": 7,
   "id": "e3be4df1-6c4f-4ccf-b7c0-95be8e6eaa0b",
   "metadata": {},
   "outputs": [
    {
     "name": "stdin",
     "output_type": "stream",
     "text": [
      "enter the any no 15\n"
     ]
    },
    {
     "name": "stdout",
     "output_type": "stream",
     "text": [
      "reverse no from n to 1:\n",
      "15 14 13 12 11 10 9 8 7 6 5 4 3 2 1 "
     ]
    }
   ],
   "source": [
    "#2.WAP to print all natural no in reverse from n to 1 using while loop\n",
    "n=int(input(\"enter the any no\"))\n",
    "print('reverse no from n to 1:')\n",
    "while(n>=1):\n",
    "   print(n,end=\" \")\n",
    "   n-=1"
   ]
  },
  {
   "cell_type": "code",
   "execution_count": 9,
   "id": "3655421a-5821-483c-a924-46acdce90bd6",
   "metadata": {},
   "outputs": [
    {
     "name": "stdout",
     "output_type": "stream",
     "text": [
      "alphabet from a to z\n",
      "A B C D E F G H I J K L M N O P Q R S T U V W X Y Z "
     ]
    }
   ],
   "source": [
    "#3.write a python program to print all alphabet from a to z\n",
    "\n",
    "print(\"alphabet from a to z\")\n",
    "i=0\n",
    "while(i<26):\n",
    " print(chr(65+i),end=' ')\n",
    " i+=1"
   ]
  },
  {
   "cell_type": "code",
   "execution_count": 11,
   "id": "dc809ca5-7bf0-43e7-96be-95e527930358",
   "metadata": {},
   "outputs": [
    {
     "name": "stdout",
     "output_type": "stream",
     "text": [
      "0 2 4 6 8 10 12 14 16 18 20 22 24 26 28 30 32 34 36 38 40 42 44 46 48 50 52 54 56 58 60 62 64 66 68 70 72 74 76 78 80 82 84 86 88 90 92 94 96 98 100 "
     ]
    }
   ],
   "source": [
    "#4.WAP to print all even no between 1-100\n",
    "i=0\n",
    "while i <=100:\n",
    "    if i%2==0:\n",
    "      print(i,end=' ')\n",
    "    i+=1"
   ]
  },
  {
   "cell_type": "code",
   "execution_count": 13,
   "id": "f6b11257-c50a-4898-a5b4-c52db3f3ca8e",
   "metadata": {},
   "outputs": [
    {
     "name": "stdout",
     "output_type": "stream",
     "text": [
      "1 3 5 7 9 11 13 15 17 19 21 23 25 27 29 31 33 35 37 39 41 43 45 47 49 51 53 55 57 59 61 63 65 67 69 71 73 75 77 79 81 83 85 87 89 91 93 95 97 99 "
     ]
    }
   ],
   "source": [
    "#5.WAP to print all odd no between 1-100\n",
    "i=0\n",
    "while i<=100:\n",
    "    if i%2!=0:\n",
    "        print(i,end=' ')\n",
    "    i+=1\n"
   ]
  },
  {
   "cell_type": "code",
   "execution_count": 15,
   "id": "5fc3ad69-3e3f-4aa0-8935-2eff91b5c5fb",
   "metadata": {},
   "outputs": [
    {
     "name": "stdin",
     "output_type": "stream",
     "text": [
      "enter the no: 5\n"
     ]
    },
    {
     "name": "stdout",
     "output_type": "stream",
     "text": [
      "sum of natural no 15\n"
     ]
    }
   ],
   "source": [
    "#6.WAP sum of all natural no between 1 to n\n",
    "n=int(input('enter the no:'))\n",
    "sum=0\n",
    "i=1\n",
    "while(i<=n):\n",
    "  sum=sum+i\n",
    "  i+=1\n",
    "print(\"sum of natural no\",sum)"
   ]
  },
  {
   "cell_type": "code",
   "execution_count": 17,
   "id": "d6b713ef-9608-4744-bb9c-051d1d6eaa4c",
   "metadata": {},
   "outputs": [
    {
     "name": "stdin",
     "output_type": "stream",
     "text": [
      "enter the no: 8\n"
     ]
    },
    {
     "name": "stdout",
     "output_type": "stream",
     "text": [
      "sum of even no: 20\n"
     ]
    }
   ],
   "source": [
    "#7..WAP sum of all even no between 1 to n\n",
    "n=int(input('enter the no:'))\n",
    "i=2\n",
    "sum=0\n",
    "while i<=n:\n",
    "    if i%2==0:\n",
    "     sum=sum+i\n",
    "     i+=2\n",
    "print('sum of even no:',sum)\n",
    "    "
   ]
  },
  {
   "cell_type": "code",
   "execution_count": 19,
   "id": "f15a46ea-14eb-4ff5-817a-0beed29b7f5e",
   "metadata": {},
   "outputs": [
    {
     "name": "stdin",
     "output_type": "stream",
     "text": [
      "enter the no: 7\n"
     ]
    },
    {
     "name": "stdout",
     "output_type": "stream",
     "text": [
      "sum of odd no: 16\n"
     ]
    }
   ],
   "source": [
    "#8..WAP sum of all odd no between 1 to n\n",
    "n=int(input(\"enter the no:\"))\n",
    "i=1\n",
    "sum=0\n",
    "while i<=n:\n",
    "  if i%2!=0:\n",
    "   sum=sum+i\n",
    "   i+=2\n",
    "print('sum of odd no:',sum)"
   ]
  },
  {
   "cell_type": "code",
   "execution_count": 21,
   "id": "4a3df1b7-11a4-430c-af38-c67687fd83e9",
   "metadata": {},
   "outputs": [
    {
     "name": "stdin",
     "output_type": "stream",
     "text": [
      "enter the no 12345\n"
     ]
    },
    {
     "name": "stdout",
     "output_type": "stream",
     "text": [
      "5\n"
     ]
    }
   ],
   "source": [
    "#10.WAP count program to count no of digit no\n",
    "n=int(input('enter the no'))\n",
    "count=0\n",
    "while(n!=0):\n",
    "    n//=10\n",
    "    count+=1\n",
    "print(count)"
   ]
  },
  {
   "cell_type": "code",
   "execution_count": null,
   "id": "7465b868-a74e-412b-9949-2f52797b68d7",
   "metadata": {},
   "outputs": [],
   "source": []
  }
 ],
 "metadata": {
  "kernelspec": {
   "display_name": "Python 3 (ipykernel)",
   "language": "python",
   "name": "python3"
  },
  "language_info": {
   "codemirror_mode": {
    "name": "ipython",
    "version": 3
   },
   "file_extension": ".py",
   "mimetype": "text/x-python",
   "name": "python",
   "nbconvert_exporter": "python",
   "pygments_lexer": "ipython3",
   "version": "3.12.4"
  }
 },
 "nbformat": 4,
 "nbformat_minor": 5
}
